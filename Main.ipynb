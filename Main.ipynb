{
 "cells": [
  {
   "cell_type": "code",
   "execution_count": 1,
   "id": "initial_id",
   "metadata": {
    "collapsed": true,
    "ExecuteTime": {
     "end_time": "2024-01-07T02:04:11.167396200Z",
     "start_time": "2024-01-07T02:04:06.680561100Z"
    }
   },
   "outputs": [
    {
     "name": "stdout",
     "output_type": "stream",
     "text": [
      "sagemaker.config INFO - Not applying SDK defaults from location: C:\\ProgramData\\sagemaker\\sagemaker\\config.yaml\n",
      "sagemaker.config INFO - Not applying SDK defaults from location: C:\\Users\\Aravind Sridhar\\AppData\\Local\\sagemaker\\sagemaker\\config.yaml\n"
     ]
    }
   ],
   "source": [
    "import pandas as pd\n",
    "import numpy as np\n",
    "import boto3\n",
    "import sagemaker\n",
    "from sklearn.model_selection import train_test_split"
   ]
  },
  {
   "cell_type": "code",
   "outputs": [
    {
     "name": "stdout",
     "output_type": "stream",
     "text": [
      "Bucket name: sagemakertestbucket3\n"
     ]
    }
   ],
   "source": [
    "sagemaker_boto3 = boto3.client(\"sagemaker\")\n",
    "sess= sagemaker.Session()\n",
    "region = sess.boto_session.region_name\n",
    "bucket_name = 'sagemakertestbucket3'\n",
    "print(f'Bucket name: {bucket_name}')"
   ],
   "metadata": {
    "collapsed": false,
    "ExecuteTime": {
     "end_time": "2024-01-07T02:06:29.177958200Z",
     "start_time": "2024-01-07T02:06:28.521973400Z"
    }
   },
   "id": "6d8b617ee9181edf",
   "execution_count": 2
  },
  {
   "cell_type": "code",
   "outputs": [
    {
     "data": {
      "text/plain": "    battery_power  blue  clock_speed  dual_sim  fc  four_g  int_memory  m_dep  \\\n0             842     0          2.2         0   1       0           7    0.6   \n1            1021     1          0.5         1   0       1          53    0.7   \n2             563     1          0.5         1   2       1          41    0.9   \n3             615     1          2.5         0   0       0          10    0.8   \n4            1821     1          1.2         0  13       1          44    0.6   \n5            1859     0          0.5         1   3       0          22    0.7   \n6            1821     0          1.7         0   4       1          10    0.8   \n7            1954     0          0.5         1   0       0          24    0.8   \n8            1445     1          0.5         0   0       0          53    0.7   \n9             509     1          0.6         1   2       1           9    0.1   \n10            769     1          2.9         1   0       0           9    0.1   \n11           1520     1          2.2         0   5       1          33    0.5   \n12           1815     0          2.8         0   2       0          33    0.6   \n13            803     1          2.1         0   7       0          17    1.0   \n14           1866     0          0.5         0  13       1          52    0.7   \n15            775     0          1.0         0   3       0          46    0.7   \n16            838     0          0.5         0   1       1          13    0.1   \n17            595     0          0.9         1   7       1          23    0.1   \n18           1131     1          0.5         1  11       0          49    0.6   \n19            682     1          0.5         0   4       0          19    1.0   \n\n    mobile_wt  n_cores  ...  px_height  px_width   ram  sc_h  sc_w  talk_time  \\\n0         188        2  ...         20       756  2549     9     7         19   \n1         136        3  ...        905      1988  2631    17     3          7   \n2         145        5  ...       1263      1716  2603    11     2          9   \n3         131        6  ...       1216      1786  2769    16     8         11   \n4         141        2  ...       1208      1212  1411     8     2         15   \n5         164        1  ...       1004      1654  1067    17     1         10   \n6         139        8  ...        381      1018  3220    13     8         18   \n7         187        4  ...        512      1149   700    16     3          5   \n8         174        7  ...        386       836  1099    17     1         20   \n9          93        5  ...       1137      1224   513    19    10         12   \n10        182        5  ...        248       874  3946     5     2          7   \n11        177        8  ...        151      1005  3826    14     9         13   \n12        159        4  ...        607       748  1482    18     0          2   \n13        198        4  ...        344      1440  2680     7     1          4   \n14        185        1  ...        356       563   373    14     9          3   \n15        159        2  ...        862      1864   568    17    15         11   \n16        196        8  ...        984      1850  3554    10     9         19   \n17        121        3  ...        441       810  3752    10     2         18   \n18        101        5  ...        658       878  1835    19    13         16   \n19        121        4  ...        902      1064  2337    11     1         18   \n\n    three_g  touch_screen  wifi  price_range  \n0         0             0     1            1  \n1         1             1     0            2  \n2         1             1     0            2  \n3         1             0     0            2  \n4         1             1     0            1  \n5         1             0     0            1  \n6         1             0     1            3  \n7         1             1     1            0  \n8         1             0     0            0  \n9         1             0     0            0  \n10        0             0     0            3  \n11        1             1     1            3  \n12        1             0     0            1  \n13        1             0     1            2  \n14        1             0     1            0  \n15        1             1     1            0  \n16        1             0     1            3  \n17        1             1     0            3  \n18        1             1     0            1  \n19        0             1     1            1  \n\n[20 rows x 21 columns]",
      "text/html": "<div>\n<style scoped>\n    .dataframe tbody tr th:only-of-type {\n        vertical-align: middle;\n    }\n\n    .dataframe tbody tr th {\n        vertical-align: top;\n    }\n\n    .dataframe thead th {\n        text-align: right;\n    }\n</style>\n<table border=\"1\" class=\"dataframe\">\n  <thead>\n    <tr style=\"text-align: right;\">\n      <th></th>\n      <th>battery_power</th>\n      <th>blue</th>\n      <th>clock_speed</th>\n      <th>dual_sim</th>\n      <th>fc</th>\n      <th>four_g</th>\n      <th>int_memory</th>\n      <th>m_dep</th>\n      <th>mobile_wt</th>\n      <th>n_cores</th>\n      <th>...</th>\n      <th>px_height</th>\n      <th>px_width</th>\n      <th>ram</th>\n      <th>sc_h</th>\n      <th>sc_w</th>\n      <th>talk_time</th>\n      <th>three_g</th>\n      <th>touch_screen</th>\n      <th>wifi</th>\n      <th>price_range</th>\n    </tr>\n  </thead>\n  <tbody>\n    <tr>\n      <th>0</th>\n      <td>842</td>\n      <td>0</td>\n      <td>2.2</td>\n      <td>0</td>\n      <td>1</td>\n      <td>0</td>\n      <td>7</td>\n      <td>0.6</td>\n      <td>188</td>\n      <td>2</td>\n      <td>...</td>\n      <td>20</td>\n      <td>756</td>\n      <td>2549</td>\n      <td>9</td>\n      <td>7</td>\n      <td>19</td>\n      <td>0</td>\n      <td>0</td>\n      <td>1</td>\n      <td>1</td>\n    </tr>\n    <tr>\n      <th>1</th>\n      <td>1021</td>\n      <td>1</td>\n      <td>0.5</td>\n      <td>1</td>\n      <td>0</td>\n      <td>1</td>\n      <td>53</td>\n      <td>0.7</td>\n      <td>136</td>\n      <td>3</td>\n      <td>...</td>\n      <td>905</td>\n      <td>1988</td>\n      <td>2631</td>\n      <td>17</td>\n      <td>3</td>\n      <td>7</td>\n      <td>1</td>\n      <td>1</td>\n      <td>0</td>\n      <td>2</td>\n    </tr>\n    <tr>\n      <th>2</th>\n      <td>563</td>\n      <td>1</td>\n      <td>0.5</td>\n      <td>1</td>\n      <td>2</td>\n      <td>1</td>\n      <td>41</td>\n      <td>0.9</td>\n      <td>145</td>\n      <td>5</td>\n      <td>...</td>\n      <td>1263</td>\n      <td>1716</td>\n      <td>2603</td>\n      <td>11</td>\n      <td>2</td>\n      <td>9</td>\n      <td>1</td>\n      <td>1</td>\n      <td>0</td>\n      <td>2</td>\n    </tr>\n    <tr>\n      <th>3</th>\n      <td>615</td>\n      <td>1</td>\n      <td>2.5</td>\n      <td>0</td>\n      <td>0</td>\n      <td>0</td>\n      <td>10</td>\n      <td>0.8</td>\n      <td>131</td>\n      <td>6</td>\n      <td>...</td>\n      <td>1216</td>\n      <td>1786</td>\n      <td>2769</td>\n      <td>16</td>\n      <td>8</td>\n      <td>11</td>\n      <td>1</td>\n      <td>0</td>\n      <td>0</td>\n      <td>2</td>\n    </tr>\n    <tr>\n      <th>4</th>\n      <td>1821</td>\n      <td>1</td>\n      <td>1.2</td>\n      <td>0</td>\n      <td>13</td>\n      <td>1</td>\n      <td>44</td>\n      <td>0.6</td>\n      <td>141</td>\n      <td>2</td>\n      <td>...</td>\n      <td>1208</td>\n      <td>1212</td>\n      <td>1411</td>\n      <td>8</td>\n      <td>2</td>\n      <td>15</td>\n      <td>1</td>\n      <td>1</td>\n      <td>0</td>\n      <td>1</td>\n    </tr>\n    <tr>\n      <th>5</th>\n      <td>1859</td>\n      <td>0</td>\n      <td>0.5</td>\n      <td>1</td>\n      <td>3</td>\n      <td>0</td>\n      <td>22</td>\n      <td>0.7</td>\n      <td>164</td>\n      <td>1</td>\n      <td>...</td>\n      <td>1004</td>\n      <td>1654</td>\n      <td>1067</td>\n      <td>17</td>\n      <td>1</td>\n      <td>10</td>\n      <td>1</td>\n      <td>0</td>\n      <td>0</td>\n      <td>1</td>\n    </tr>\n    <tr>\n      <th>6</th>\n      <td>1821</td>\n      <td>0</td>\n      <td>1.7</td>\n      <td>0</td>\n      <td>4</td>\n      <td>1</td>\n      <td>10</td>\n      <td>0.8</td>\n      <td>139</td>\n      <td>8</td>\n      <td>...</td>\n      <td>381</td>\n      <td>1018</td>\n      <td>3220</td>\n      <td>13</td>\n      <td>8</td>\n      <td>18</td>\n      <td>1</td>\n      <td>0</td>\n      <td>1</td>\n      <td>3</td>\n    </tr>\n    <tr>\n      <th>7</th>\n      <td>1954</td>\n      <td>0</td>\n      <td>0.5</td>\n      <td>1</td>\n      <td>0</td>\n      <td>0</td>\n      <td>24</td>\n      <td>0.8</td>\n      <td>187</td>\n      <td>4</td>\n      <td>...</td>\n      <td>512</td>\n      <td>1149</td>\n      <td>700</td>\n      <td>16</td>\n      <td>3</td>\n      <td>5</td>\n      <td>1</td>\n      <td>1</td>\n      <td>1</td>\n      <td>0</td>\n    </tr>\n    <tr>\n      <th>8</th>\n      <td>1445</td>\n      <td>1</td>\n      <td>0.5</td>\n      <td>0</td>\n      <td>0</td>\n      <td>0</td>\n      <td>53</td>\n      <td>0.7</td>\n      <td>174</td>\n      <td>7</td>\n      <td>...</td>\n      <td>386</td>\n      <td>836</td>\n      <td>1099</td>\n      <td>17</td>\n      <td>1</td>\n      <td>20</td>\n      <td>1</td>\n      <td>0</td>\n      <td>0</td>\n      <td>0</td>\n    </tr>\n    <tr>\n      <th>9</th>\n      <td>509</td>\n      <td>1</td>\n      <td>0.6</td>\n      <td>1</td>\n      <td>2</td>\n      <td>1</td>\n      <td>9</td>\n      <td>0.1</td>\n      <td>93</td>\n      <td>5</td>\n      <td>...</td>\n      <td>1137</td>\n      <td>1224</td>\n      <td>513</td>\n      <td>19</td>\n      <td>10</td>\n      <td>12</td>\n      <td>1</td>\n      <td>0</td>\n      <td>0</td>\n      <td>0</td>\n    </tr>\n    <tr>\n      <th>10</th>\n      <td>769</td>\n      <td>1</td>\n      <td>2.9</td>\n      <td>1</td>\n      <td>0</td>\n      <td>0</td>\n      <td>9</td>\n      <td>0.1</td>\n      <td>182</td>\n      <td>5</td>\n      <td>...</td>\n      <td>248</td>\n      <td>874</td>\n      <td>3946</td>\n      <td>5</td>\n      <td>2</td>\n      <td>7</td>\n      <td>0</td>\n      <td>0</td>\n      <td>0</td>\n      <td>3</td>\n    </tr>\n    <tr>\n      <th>11</th>\n      <td>1520</td>\n      <td>1</td>\n      <td>2.2</td>\n      <td>0</td>\n      <td>5</td>\n      <td>1</td>\n      <td>33</td>\n      <td>0.5</td>\n      <td>177</td>\n      <td>8</td>\n      <td>...</td>\n      <td>151</td>\n      <td>1005</td>\n      <td>3826</td>\n      <td>14</td>\n      <td>9</td>\n      <td>13</td>\n      <td>1</td>\n      <td>1</td>\n      <td>1</td>\n      <td>3</td>\n    </tr>\n    <tr>\n      <th>12</th>\n      <td>1815</td>\n      <td>0</td>\n      <td>2.8</td>\n      <td>0</td>\n      <td>2</td>\n      <td>0</td>\n      <td>33</td>\n      <td>0.6</td>\n      <td>159</td>\n      <td>4</td>\n      <td>...</td>\n      <td>607</td>\n      <td>748</td>\n      <td>1482</td>\n      <td>18</td>\n      <td>0</td>\n      <td>2</td>\n      <td>1</td>\n      <td>0</td>\n      <td>0</td>\n      <td>1</td>\n    </tr>\n    <tr>\n      <th>13</th>\n      <td>803</td>\n      <td>1</td>\n      <td>2.1</td>\n      <td>0</td>\n      <td>7</td>\n      <td>0</td>\n      <td>17</td>\n      <td>1.0</td>\n      <td>198</td>\n      <td>4</td>\n      <td>...</td>\n      <td>344</td>\n      <td>1440</td>\n      <td>2680</td>\n      <td>7</td>\n      <td>1</td>\n      <td>4</td>\n      <td>1</td>\n      <td>0</td>\n      <td>1</td>\n      <td>2</td>\n    </tr>\n    <tr>\n      <th>14</th>\n      <td>1866</td>\n      <td>0</td>\n      <td>0.5</td>\n      <td>0</td>\n      <td>13</td>\n      <td>1</td>\n      <td>52</td>\n      <td>0.7</td>\n      <td>185</td>\n      <td>1</td>\n      <td>...</td>\n      <td>356</td>\n      <td>563</td>\n      <td>373</td>\n      <td>14</td>\n      <td>9</td>\n      <td>3</td>\n      <td>1</td>\n      <td>0</td>\n      <td>1</td>\n      <td>0</td>\n    </tr>\n    <tr>\n      <th>15</th>\n      <td>775</td>\n      <td>0</td>\n      <td>1.0</td>\n      <td>0</td>\n      <td>3</td>\n      <td>0</td>\n      <td>46</td>\n      <td>0.7</td>\n      <td>159</td>\n      <td>2</td>\n      <td>...</td>\n      <td>862</td>\n      <td>1864</td>\n      <td>568</td>\n      <td>17</td>\n      <td>15</td>\n      <td>11</td>\n      <td>1</td>\n      <td>1</td>\n      <td>1</td>\n      <td>0</td>\n    </tr>\n    <tr>\n      <th>16</th>\n      <td>838</td>\n      <td>0</td>\n      <td>0.5</td>\n      <td>0</td>\n      <td>1</td>\n      <td>1</td>\n      <td>13</td>\n      <td>0.1</td>\n      <td>196</td>\n      <td>8</td>\n      <td>...</td>\n      <td>984</td>\n      <td>1850</td>\n      <td>3554</td>\n      <td>10</td>\n      <td>9</td>\n      <td>19</td>\n      <td>1</td>\n      <td>0</td>\n      <td>1</td>\n      <td>3</td>\n    </tr>\n    <tr>\n      <th>17</th>\n      <td>595</td>\n      <td>0</td>\n      <td>0.9</td>\n      <td>1</td>\n      <td>7</td>\n      <td>1</td>\n      <td>23</td>\n      <td>0.1</td>\n      <td>121</td>\n      <td>3</td>\n      <td>...</td>\n      <td>441</td>\n      <td>810</td>\n      <td>3752</td>\n      <td>10</td>\n      <td>2</td>\n      <td>18</td>\n      <td>1</td>\n      <td>1</td>\n      <td>0</td>\n      <td>3</td>\n    </tr>\n    <tr>\n      <th>18</th>\n      <td>1131</td>\n      <td>1</td>\n      <td>0.5</td>\n      <td>1</td>\n      <td>11</td>\n      <td>0</td>\n      <td>49</td>\n      <td>0.6</td>\n      <td>101</td>\n      <td>5</td>\n      <td>...</td>\n      <td>658</td>\n      <td>878</td>\n      <td>1835</td>\n      <td>19</td>\n      <td>13</td>\n      <td>16</td>\n      <td>1</td>\n      <td>1</td>\n      <td>0</td>\n      <td>1</td>\n    </tr>\n    <tr>\n      <th>19</th>\n      <td>682</td>\n      <td>1</td>\n      <td>0.5</td>\n      <td>0</td>\n      <td>4</td>\n      <td>0</td>\n      <td>19</td>\n      <td>1.0</td>\n      <td>121</td>\n      <td>4</td>\n      <td>...</td>\n      <td>902</td>\n      <td>1064</td>\n      <td>2337</td>\n      <td>11</td>\n      <td>1</td>\n      <td>18</td>\n      <td>0</td>\n      <td>1</td>\n      <td>1</td>\n      <td>1</td>\n    </tr>\n  </tbody>\n</table>\n<p>20 rows × 21 columns</p>\n</div>"
     },
     "execution_count": 6,
     "metadata": {},
     "output_type": "execute_result"
    }
   ],
   "source": [
    "df= pd.read_csv(\"data.csv\")\n",
    "df.head(20)"
   ],
   "metadata": {
    "collapsed": false,
    "ExecuteTime": {
     "end_time": "2024-01-07T02:10:10.853448400Z",
     "start_time": "2024-01-07T02:10:10.708825300Z"
    }
   },
   "id": "f8b1cbe2315d5eb3",
   "execution_count": 6
  },
  {
   "cell_type": "code",
   "outputs": [],
   "source": [
    "features = list(df.columns)\n",
    "label = features.pop(-1)\n",
    "x = df[features]\n",
    "y = df[label]\n",
    "X_train, X_test, y_train, y_test = train_test_split(x,y, test_size=0.15, random_state=0)"
   ],
   "metadata": {
    "collapsed": false,
    "ExecuteTime": {
     "end_time": "2024-01-07T02:12:52.742376100Z",
     "start_time": "2024-01-07T02:12:52.710229Z"
    }
   },
   "id": "e5c3e4889c0ef",
   "execution_count": 7
  },
  {
   "cell_type": "code",
   "outputs": [],
   "source": [
    "trainX = pd.DataFrame(X_train)\n",
    "trainX[label] = y_train\n",
    "\n",
    "testX = pd.DataFrame(X_test)\n",
    "testX[label] = y_test"
   ],
   "metadata": {
    "collapsed": false,
    "ExecuteTime": {
     "end_time": "2024-01-07T02:12:54.743602900Z",
     "start_time": "2024-01-07T02:12:54.727932500Z"
    }
   },
   "id": "8b2f3576fec70689",
   "execution_count": 8
  },
  {
   "cell_type": "code",
   "outputs": [],
   "source": [
    "trainX.to_csv(\"train-V-1.csv\",index = False)\n",
    "testX.to_csv(\"test-V-1.csv\", index = False)"
   ],
   "metadata": {
    "collapsed": false,
    "ExecuteTime": {
     "end_time": "2024-01-07T02:13:16.194793500Z",
     "start_time": "2024-01-07T02:13:16.151560Z"
    }
   },
   "id": "d6b7e3d3909a7c50",
   "execution_count": 9
  },
  {
   "cell_type": "code",
   "outputs": [],
   "source": [
    "prefix = \"sa"
   ],
   "metadata": {
    "collapsed": false
   },
   "id": "b99edde9647f8908"
  }
 ],
 "metadata": {
  "kernelspec": {
   "display_name": "Python 3",
   "language": "python",
   "name": "python3"
  },
  "language_info": {
   "codemirror_mode": {
    "name": "ipython",
    "version": 2
   },
   "file_extension": ".py",
   "mimetype": "text/x-python",
   "name": "python",
   "nbconvert_exporter": "python",
   "pygments_lexer": "ipython2",
   "version": "2.7.6"
  }
 },
 "nbformat": 4,
 "nbformat_minor": 5
}
